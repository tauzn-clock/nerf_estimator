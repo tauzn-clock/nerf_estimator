{
 "cells": [
  {
   "cell_type": "code",
   "execution_count": 4,
   "metadata": {},
   "outputs": [],
   "source": [
    "import cv2\n",
    "import json\n",
    "import os"
   ]
  },
  {
   "cell_type": "code",
   "execution_count": 5,
   "metadata": {},
   "outputs": [],
   "source": [
    "FILE_PATH = \"../data/jackal_irl_one_spin\"\n",
    "with open(os.path.join(FILE_PATH, \"transforms.json\")) as f:\n",
    "    data = json.load(f)"
   ]
  },
  {
   "cell_type": "code",
   "execution_count": 6,
   "metadata": {},
   "outputs": [],
   "source": [
    "for f in data[\"frames\"]:\n",
    "    #Open the mask\n",
    "    mask = cv2.imread(os.path.join(FILE_PATH, f[\"mask_path\"]), cv2.IMREAD_GRAYSCALE)\n",
    "    #Save the mask with new name\n",
    "    cv2.imwrite(os.path.join(FILE_PATH, f[\"mask_path\"].replace(\".png\", \".png.png\")), mask)"
   ]
  }
 ],
 "metadata": {
  "kernelspec": {
   "display_name": "Python 3",
   "language": "python",
   "name": "python3"
  },
  "language_info": {
   "codemirror_mode": {
    "name": "ipython",
    "version": 3
   },
   "file_extension": ".py",
   "mimetype": "text/x-python",
   "name": "python",
   "nbconvert_exporter": "python",
   "pygments_lexer": "ipython3",
   "version": "3.8.10"
  }
 },
 "nbformat": 4,
 "nbformat_minor": 2
}
