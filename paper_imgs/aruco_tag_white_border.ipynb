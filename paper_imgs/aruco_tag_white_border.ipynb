{
 "cells": [
  {
   "cell_type": "code",
   "execution_count": 4,
   "metadata": {},
   "outputs": [
    {
     "data": {
      "text/plain": [
       "True"
      ]
     },
     "execution_count": 4,
     "metadata": {},
     "output_type": "execute_result"
    }
   ],
   "source": [
    "import cv2\n",
    "\n",
    "img = cv2.imread('aruco.png', cv2.IMREAD_COLOR)\n",
    "\n",
    "#Strip white border\n",
    "gray = cv2.cvtColor(img, cv2.COLOR_BGR2GRAY)\n",
    "_,thresh = cv2.threshold(gray,1,255,cv2.THRESH_BINARY)\n",
    "contours,hierarchy = cv2.findContours(thresh,cv2.RETR_EXTERNAL,cv2.CHAIN_APPROX_SIMPLE)\n",
    "x,y,w,h = cv2.boundingRect(contours[0])\n",
    "\n",
    "img = img[y:y+h,x:x+w]\n",
    "\n",
    "#Add white border of 20 pixels\n",
    "border = 20\n",
    "img = cv2.copyMakeBorder(img, border, border, border, border, cv2.BORDER_CONSTANT, value=[255,255,255])\n",
    "\n",
    "cv2.imwrite('aruco.png', img)"
   ]
  }
 ],
 "metadata": {
  "kernelspec": {
   "display_name": "Python 3",
   "language": "python",
   "name": "python3"
  },
  "language_info": {
   "codemirror_mode": {
    "name": "ipython",
    "version": 3
   },
   "file_extension": ".py",
   "mimetype": "text/x-python",
   "name": "python",
   "nbconvert_exporter": "python",
   "pygments_lexer": "ipython3",
   "version": "3.8.10"
  }
 },
 "nbformat": 4,
 "nbformat_minor": 2
}
