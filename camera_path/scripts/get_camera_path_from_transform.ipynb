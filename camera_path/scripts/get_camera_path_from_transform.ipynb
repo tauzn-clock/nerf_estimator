{
 "cells": [
  {
   "cell_type": "code",
   "execution_count": 28,
   "metadata": {},
   "outputs": [],
   "source": [
    "import os\n",
    "import numpy as np\n",
    "import json\n",
    "import random\n",
    "from scipy.spatial.transform import Rotation"
   ]
  },
  {
   "cell_type": "code",
   "execution_count": 29,
   "metadata": {},
   "outputs": [
    {
     "name": "stdout",
     "output_type": "stream",
     "text": [
      "/home/boomalope/nerf_estimator/src/nerf_estimator/camera_path/scripts/../json\n"
     ]
    }
   ],
   "source": [
    "SOURCE_PATH = os.path.join(os.getcwd(), '../../blender/data/5_spins')\n",
    "SAVE_PATH = os.path.join(os.getcwd(), '../json')\n",
    "print(SAVE_PATH)\n",
    "FILE_NAME = '5_spins.json'"
   ]
  },
  {
   "cell_type": "code",
   "execution_count": 30,
   "metadata": {},
   "outputs": [],
   "source": [
    "#Open json file\n",
    "with open(os.path.join(SOURCE_PATH, \"transforms.json\"), 'r') as f:\n",
    "    original_transform = json.load(f)"
   ]
  },
  {
   "cell_type": "code",
   "execution_count": 31,
   "metadata": {},
   "outputs": [
    {
     "name": "stdout",
     "output_type": "stream",
     "text": [
      "dict_keys(['focal_length', 'fov_x', 'w', 'h', 'pixel_width', 'pixel_height', 'fl_x', 'fl_y', 'cx', 'cy', 'camera_model', 'frames'])\n"
     ]
    }
   ],
   "source": [
    "print(original_transform.keys())"
   ]
  },
  {
   "cell_type": "code",
   "execution_count": 32,
   "metadata": {},
   "outputs": [],
   "source": [
    "path = {}\n",
    "path[\"camera_type\"] = \"perspective\"\n",
    "path[\"render_height\"] = 1080\n",
    "path[\"render_width\"] = 1920\n",
    "path[\"fps\"] = 24\n",
    "path[\"seconds\"] = len(original_transform[\"frames\"]) / path[\"fps\"]\n",
    "path[\"smoothness_value\"] = 0.5\n",
    "path[\"is_cycle\"] = False\n",
    "path[\"crop\"] = None"
   ]
  },
  {
   "cell_type": "code",
   "execution_count": 33,
   "metadata": {},
   "outputs": [],
   "source": [
    "all_cam_frames = []\n",
    "\n",
    "for f in original_transform[\"frames\"]:\n",
    "    new_cam_frame = {}\n",
    "    new_cam_frame[\"fov\"] = 50\n",
    "    new_cam_frame[\"aspect\"] = 1\n",
    "    new_cam_frame[\"camera_to_world\"] = np.asarray(f[\"transform_matrix\"]).flatten().tolist()\n",
    "    all_cam_frames.append(new_cam_frame)\n",
    "\n",
    "path[\"camera_path\"] = all_cam_frames"
   ]
  },
  {
   "cell_type": "code",
   "execution_count": 34,
   "metadata": {},
   "outputs": [],
   "source": [
    "#Save json\n",
    "with open(os.path.join(SAVE_PATH, FILE_NAME), \"w\") as f:\n",
    "    json.dump(path, f, indent=4)"
   ]
  }
 ],
 "metadata": {
  "kernelspec": {
   "display_name": "Python 3",
   "language": "python",
   "name": "python3"
  },
  "language_info": {
   "codemirror_mode": {
    "name": "ipython",
    "version": 3
   },
   "file_extension": ".py",
   "mimetype": "text/x-python",
   "name": "python",
   "nbconvert_exporter": "python",
   "pygments_lexer": "ipython3",
   "version": "3.8.10"
  }
 },
 "nbformat": 4,
 "nbformat_minor": 2
}
