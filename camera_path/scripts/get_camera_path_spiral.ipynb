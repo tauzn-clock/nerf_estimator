{
 "cells": [
  {
   "cell_type": "code",
   "execution_count": 46,
   "metadata": {},
   "outputs": [],
   "source": [
    "import os\n",
    "import numpy as np\n",
    "import json\n",
    "import random\n",
    "from scipy.spatial.transform import Rotation"
   ]
  },
  {
   "cell_type": "code",
   "execution_count": 47,
   "metadata": {},
   "outputs": [
    {
     "name": "stdout",
     "output_type": "stream",
     "text": [
      "/home/boomalope/nerf_estimator/src/nerf_estimator/camera_path/scripts/../json\n"
     ]
    }
   ],
   "source": [
    "SAVE_PATH = os.path.join(os.getcwd(), '../json')\n",
    "print(SAVE_PATH)\n",
    "FILE_NAME = 'spiral.json'"
   ]
  },
  {
   "cell_type": "code",
   "execution_count": 48,
   "metadata": {},
   "outputs": [],
   "source": [
    "path = {}\n",
    "path[\"camera_type\"] = \"perspective\"\n",
    "path[\"render_height\"] = 1080//2\n",
    "path[\"render_width\"] = 1920//2\n",
    "path[\"fps\"] = 24\n",
    "path[\"seconds\"] = 1\n",
    "path[\"smoothness_value\"] = 0.5\n",
    "path[\"is_cycle\"] = False\n",
    "path[\"crop\"] = None"
   ]
  },
  {
   "cell_type": "code",
   "execution_count": 49,
   "metadata": {},
   "outputs": [
    {
     "name": "stdout",
     "output_type": "stream",
     "text": [
      "0.0 -0.4 0.0\n",
      "0.002024991562510547 -0.4049949375105469 0.0\n",
      "0.0040999316670083325 -0.4099795001708328 0.0\n",
      "0.006224766565126158 -0.41495331337538416 0.0\n",
      "0.008399440011199895 -0.4199160027999627 0.0\n",
      "0.010623893263752742 -0.4248671944171737 0.0\n",
      "0.012898065087073135 -0.4298065145120647 0.0\n",
      "0.015221891752886248 -0.4347335896977176 0.0\n",
      "0.01759530704211903 -0.4396480469308303 0.0\n",
      "0.020018242246758806 -0.44454951352728994 0.0\n",
      "0.02249062617180525 -0.44943761717773495 0.0\n",
      "0.02501238513731582 -0.45431198596310735 0.0\n",
      "0.027583442980544517 -0.459172248370194 0.0\n",
      "0.03020372105817391 -0.4640180333071551 0.0\n",
      "0.0328731382486404 -0.4688489701190415 0.0\n",
      "0.03559161095455262 -0.4736646886032987 0.0\n",
      "0.03835905310520289 -0.4784648190252574 0.0\n",
      "0.04117537615917178 -0.48324899213361094 0.0\n",
      "0.04404048910702543 -0.4880168391758773 0.0\n",
      "0.04695429847410588 -0.49276799191384646 0.0\n",
      "0.0499167083234141 -0.497502082639013 0.0\n",
      "0.05292762025858568 -0.5022187441879914 0.0\n",
      "0.05598693342695918 -0.5069176099579156 0.0\n",
      "0.059094544522736894 -0.5115983139218213 0.0\n"
     ]
    }
   ],
   "source": [
    "z = 0\n",
    "pitch = 0.7\n",
    "fov = 50\n",
    "aspect = 1\n",
    "\n",
    "canmera_path = []\n",
    "\n",
    "r = -0.4\n",
    "yaw = 0\n",
    "\n",
    "\n",
    "\n",
    "#Spiral walk\n",
    "for _ in range(path[\"fps\"] * path[\"seconds\"]):\n",
    "    transform_matrix = np.eye(4)\n",
    "    transform_matrix[0, 3] = 0\n",
    "    transform_matrix[1, 3] = r\n",
    "    transform_matrix[2, 3] = z\n",
    "    transform_matrix[:3, :3] = Rotation.from_euler('xyz', [pitch, 0, 0]).as_matrix()\n",
    "    rot_matrix = np.eye(4)\n",
    "    rot_matrix[:3, :3] = Rotation.from_euler('xyz', [0, 0, yaw]).as_matrix()\n",
    "    transform_matrix = rot_matrix @ transform_matrix\n",
    "    print(transform_matrix[0, 3], transform_matrix[1, 3], transform_matrix[2, 3])\n",
    "    canmera_path.append({\n",
    "        \"camera_to_world\": transform_matrix.flatten().tolist(),\n",
    "        \"fov\": fov,\n",
    "        \"aspect\": aspect\n",
    "    })\n",
    "\n",
    "    yaw += 0.005\n",
    "    r += -0.005\n",
    "\n",
    "path[\"camera_path\"] = canmera_path"
   ]
  },
  {
   "cell_type": "code",
   "execution_count": 50,
   "metadata": {},
   "outputs": [],
   "source": [
    "#Save json\n",
    "with open(os.path.join(SAVE_PATH, FILE_NAME), \"w\") as f:\n",
    "    json.dump(path, f, indent=4)"
   ]
  }
 ],
 "metadata": {
  "kernelspec": {
   "display_name": "Python 3",
   "language": "python",
   "name": "python3"
  },
  "language_info": {
   "codemirror_mode": {
    "name": "ipython",
    "version": 3
   },
   "file_extension": ".py",
   "mimetype": "text/x-python",
   "name": "python",
   "nbconvert_exporter": "python",
   "pygments_lexer": "ipython3",
   "version": "3.8.10"
  }
 },
 "nbformat": 4,
 "nbformat_minor": 2
}
