{
 "cells": [
  {
   "cell_type": "code",
   "execution_count": 76,
   "metadata": {},
   "outputs": [],
   "source": [
    "import os\n",
    "import numpy as np\n",
    "import json\n",
    "import random\n",
    "from scipy.spatial.transform import Rotation"
   ]
  },
  {
   "cell_type": "code",
   "execution_count": 77,
   "metadata": {},
   "outputs": [
    {
     "name": "stdout",
     "output_type": "stream",
     "text": [
      "/home/boomalope/nerf_estimator/src/nerf_estimator/camera_path/scripts/../json\n"
     ]
    }
   ],
   "source": [
    "SAVE_PATH = os.path.join(os.getcwd(), '../json')\n",
    "print(SAVE_PATH)\n",
    "FILE_NAME = 'camera_path.json'"
   ]
  },
  {
   "cell_type": "code",
   "execution_count": 78,
   "metadata": {},
   "outputs": [],
   "source": [
    "path = {}\n",
    "path[\"camera_type\"] = \"perspective\"\n",
    "path[\"render_height\"] = 1080//2\n",
    "path[\"render_width\"] = 1920//2\n",
    "path[\"fps\"] = 24\n",
    "path[\"seconds\"] = 1\n",
    "path[\"smoothness_value\"] = 0.5\n",
    "path[\"is_cycle\"] = False\n",
    "path[\"crop\"] = None"
   ]
  },
  {
   "cell_type": "code",
   "execution_count": 79,
   "metadata": {},
   "outputs": [],
   "source": [
    "z = 0\n",
    "pitch = 0.7\n",
    "fov = 50\n",
    "aspect = 1\n",
    "\n",
    "canmera_path = []\n",
    "\n",
    "#Scene bounded by a box with length of 4 centrered at (0, 0, 0)\n",
    "#Scale relative to maxima of bounds\n",
    "x = 0\n",
    "y = -0.36 \n",
    "\n",
    "transform_matrix = np.eye(4)\n",
    "transform_matrix[0, 3] = x\n",
    "transform_matrix[1, 3] = y\n",
    "transform_matrix[2, 3] = z\n",
    "transform_matrix[:3, :3] = Rotation.from_euler('xyz', [pitch, 0, 0]).as_matrix()\n",
    "\n",
    "#Random walk\n",
    "for _ in range(path[\"fps\"] * path[\"seconds\"]):\n",
    "    canmera_path.append({\n",
    "        \"camera_to_world\": transform_matrix.flatten().tolist(),\n",
    "        \"fov\": fov,\n",
    "        \"aspect\": aspect\n",
    "    })\n",
    "\n",
    "    #Rotate by random yaw\n",
    "    #yaw = random.normalvariate(0.05, 0.1)\n",
    "    yaw = 0.05\n",
    "    rot = Rotation.from_rotvec(np.array([0, 0, yaw])).as_matrix()\n",
    "    rot_matrix = np.eye(4)\n",
    "    rot_matrix[:3, :3] = rot \n",
    "    transform_matrix = rot_matrix @ transform_matrix\n",
    "\n",
    "    #Move by random x, y\n",
    "    #dx = random.normalvariate(0, 0.001)\n",
    "    dx = 0\n",
    "    #dy = random.normalvariate(0, 0.001)\n",
    "    dy = 0\n",
    "    transform_matrix[0, 3] += dx\n",
    "    transform_matrix[1, 3] += dy\n",
    "\n",
    "path[\"camera_path\"] = canmera_path"
   ]
  },
  {
   "cell_type": "code",
   "execution_count": 80,
   "metadata": {},
   "outputs": [],
   "source": [
    "#Save json\n",
    "with open(os.path.join(SAVE_PATH, FILE_NAME), \"w\") as f:\n",
    "    json.dump(path, f, indent=4)"
   ]
  }
 ],
 "metadata": {
  "kernelspec": {
   "display_name": "Python 3",
   "language": "python",
   "name": "python3"
  },
  "language_info": {
   "codemirror_mode": {
    "name": "ipython",
    "version": 3
   },
   "file_extension": ".py",
   "mimetype": "text/x-python",
   "name": "python",
   "nbconvert_exporter": "python",
   "pygments_lexer": "ipython3",
   "version": "3.8.10"
  }
 },
 "nbformat": 4,
 "nbformat_minor": 2
}
