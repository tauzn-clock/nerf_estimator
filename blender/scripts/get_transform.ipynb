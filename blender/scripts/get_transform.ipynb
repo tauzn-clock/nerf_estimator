{
 "cells": [
  {
   "cell_type": "code",
   "execution_count": 11,
   "metadata": {},
   "outputs": [],
   "source": [
    "import os\n",
    "import json\n",
    "import math\n",
    "import numpy as np\n",
    "from scipy.spatial.transform import Rotation"
   ]
  },
  {
   "cell_type": "code",
   "execution_count": 12,
   "metadata": {},
   "outputs": [],
   "source": [
    "SAVE_PATH = os.path.join(os.getcwd(), '../data/jackal_one_spin')\n",
    "if not os.path.exists(SAVE_PATH):\n",
    "    os.makedirs(SAVE_PATH)\n",
    "if not os.path.exists(os.path.join(SAVE_PATH, 'images')):\n",
    "    os.makedirs(os.path.join(SAVE_PATH, 'images'))"
   ]
  },
  {
   "cell_type": "code",
   "execution_count": 13,
   "metadata": {},
   "outputs": [],
   "source": [
    "transforms = {}\n",
    "transforms[\"focal_length\"] = 50.0 #Focal Length in mm\n",
    "transforms[\"fov_x\"] = 1.05 #FOV in radians\n",
    "transforms[\"w\"] = 1280 # image width\n",
    "transforms[\"h\"] = 720 # image height\n",
    "\n",
    "\n",
    "transforms[\"pixel_width\"] = 2*math.tan(transforms[\"fov_x\"]) * transforms[\"focal_length\"] / transforms[\"w\"] #Sensor width in mm\n",
    "transforms[\"pixel_height\"] = transforms[\"pixel_width\"] #Sensor height in mm\n",
    "transforms[\"fl_x\"] = transforms[\"focal_length\"]/transforms[\"pixel_width\"] # focal length/ pixel_width\n",
    "transforms[\"fl_y\"] = transforms[\"focal_length\"]/transforms[\"pixel_height\"]# focal length/ pixel_height\n",
    "transforms[\"cx\"] = transforms[\"w\"]//2 # optical center in x\n",
    "transforms[\"cy\"] = transforms[\"h\"]//2 # optical center in y\n",
    "transforms[\"camera_model\"] = \"OPENCV\" # camera model"
   ]
  },
  {
   "cell_type": "code",
   "execution_count": 14,
   "metadata": {},
   "outputs": [
    {
     "name": "stdout",
     "output_type": "stream",
     "text": [
      "1.0\n",
      "1.0\n",
      "1.0000000000000002\n",
      "1.0\n",
      "1.0\n"
     ]
    }
   ],
   "source": [
    "frames = []\n",
    "\n",
    "starting_pts = [[0.5,0]]\n",
    "z_store = [1]\n",
    "pitch = 0.7\n",
    "spin = 5\n",
    "\n",
    "cnt = 0\n",
    "\n",
    "for x, y in starting_pts:\n",
    "    for z in z_store:\n",
    "        start_transform_matrix = np.eye(4)\n",
    "        start_transform_matrix[:3, :3] = Rotation.from_rotvec(np.array([pitch, 0, 0])).as_matrix()\n",
    "        start_transform_matrix[0, 3] = x\n",
    "        start_transform_matrix[1, 3] = y\n",
    "        start_transform_matrix[2, 3] = z\n",
    "\n",
    "        for i in range(spin):\n",
    "            angle = i * 2 * np.pi / spin\n",
    "            rot = Rotation.from_rotvec(np.array([0, 0, 1]) * angle).as_matrix()\n",
    "            rot_matrix = np.eye(4)\n",
    "            rot_matrix[:3, :3] = rot\n",
    "            transform_matrix = np.matmul(rot_matrix, start_transform_matrix)\n",
    "\n",
    "            frame = {}\n",
    "            file_path = \"images/{}.png\".format(cnt)\n",
    "\n",
    "            frame[\"file_path\"] = file_path\n",
    "            frame[\"transform_matrix\"] = transform_matrix.tolist()\n",
    "\n",
    "            frames.append(frame)\n",
    "\n",
    "            print(transform_matrix[2, 3])\n",
    "\n",
    "            cnt += 1\n",
    "\n",
    "\n",
    "transforms[\"frames\"] = frames"
   ]
  },
  {
   "cell_type": "code",
   "execution_count": 15,
   "metadata": {},
   "outputs": [],
   "source": [
    "#Save transforms\n",
    "with open(os.path.join(SAVE_PATH,'transforms.json'), 'w') as outfile:\n",
    "    json.dump(transforms, outfile, indent=4)"
   ]
  }
 ],
 "metadata": {
  "kernelspec": {
   "display_name": "Python 3",
   "language": "python",
   "name": "python3"
  },
  "language_info": {
   "codemirror_mode": {
    "name": "ipython",
    "version": 3
   },
   "file_extension": ".py",
   "mimetype": "text/x-python",
   "name": "python",
   "nbconvert_exporter": "python",
   "pygments_lexer": "ipython3",
   "version": "3.8.10"
  }
 },
 "nbformat": 4,
 "nbformat_minor": 2
}
