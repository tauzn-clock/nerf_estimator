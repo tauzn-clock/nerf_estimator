{
 "cells": [
  {
   "cell_type": "code",
   "execution_count": 25,
   "metadata": {},
   "outputs": [],
   "source": [
    "import os\n",
    "import cv2\n",
    "import json\n",
    "import math\n",
    "import numpy as np\n",
    "import matplotlib.pyplot as plt\n",
    "%matplotlib inline"
   ]
  },
  {
   "cell_type": "code",
   "execution_count": 26,
   "metadata": {},
   "outputs": [],
   "source": [
    "FILE_PATH = \"/home/boomalope2/nerf_estimator/src/blender/test/jackal_evaluation_data\"\n",
    "TARGET_PATH = \"/home/boomalope2/nerf_estimator/src/blender/data/jackal_one_frame\"\n",
    "#Make folder\n",
    "if not os.path.exists(TARGET_PATH):\n",
    "    os.makedirs(TARGET_PATH)\n",
    "if not os.path.exists(TARGET_PATH + \"/images\"):\n",
    "    os.makedirs(TARGET_PATH + \"/images\")\n",
    "if not os.path.exists(TARGET_PATH + \"/masks\"):\n",
    "    os.makedirs(TARGET_PATH + \"/masks\")\n",
    "IMG_INDEX = [0]"
   ]
  },
  {
   "cell_type": "code",
   "execution_count": 27,
   "metadata": {},
   "outputs": [],
   "source": [
    "with open(os.path.join(FILE_PATH, \"transforms.json\"), \"r\") as f:\n",
    "    transforms = json.load(f)"
   ]
  },
  {
   "cell_type": "code",
   "execution_count": 28,
   "metadata": {},
   "outputs": [],
   "source": [
    "new_transforms = transforms.copy()\n",
    "new_transforms[\"frames\"] = []\n",
    "for i in IMG_INDEX:\n",
    "    new_transforms[\"frames\"].append(transforms[\"frames\"][i])\n",
    "with open(os.path.join(TARGET_PATH, \"transforms.json\"), \"w\") as f:\n",
    "    json.dump(new_transforms, f, indent=4)"
   ]
  },
  {
   "cell_type": "code",
   "execution_count": 29,
   "metadata": {},
   "outputs": [],
   "source": [
    "for frame in new_transforms[\"frames\"]:\n",
    "    img = cv2.imread(os.path.join(FILE_PATH, frame[\"file_path\"]))\n",
    "    cv2.imwrite(os.path.join(TARGET_PATH, frame[\"file_path\"]), img)\n",
    "    mask = cv2.imread(os.path.join(FILE_PATH, frame[\"mask_path\"]))\n",
    "    cv2.imwrite(os.path.join(TARGET_PATH, frame[\"mask_path\"]), mask)"
   ]
  }
 ],
 "metadata": {
  "kernelspec": {
   "display_name": "Python 3",
   "language": "python",
   "name": "python3"
  },
  "language_info": {
   "codemirror_mode": {
    "name": "ipython",
    "version": 3
   },
   "file_extension": ".py",
   "mimetype": "text/x-python",
   "name": "python",
   "nbconvert_exporter": "python",
   "pygments_lexer": "ipython3",
   "version": "3.8.10"
  }
 },
 "nbformat": 4,
 "nbformat_minor": 2
}
