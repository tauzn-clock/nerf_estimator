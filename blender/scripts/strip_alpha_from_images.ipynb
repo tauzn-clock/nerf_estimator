{
 "cells": [
  {
   "cell_type": "code",
   "execution_count": 4,
   "metadata": {},
   "outputs": [],
   "source": [
    "import os\n",
    "import cv2\n",
    "import json"
   ]
  },
  {
   "cell_type": "code",
   "execution_count": 5,
   "metadata": {},
   "outputs": [],
   "source": [
    "DATA_PATH = \"/home/boomalope2/nerf_estimator/src/blender/data/jackal_training_data_0\"\n",
    "with open(os.path.join(DATA_PATH, \"ground_truth.json\")) as f:\n",
    "    ground_truth = json.load(f)"
   ]
  },
  {
   "cell_type": "code",
   "execution_count": 9,
   "metadata": {},
   "outputs": [],
   "source": [
    "for frames in ground_truth[\"frames\"]:\n",
    "    #Open the image\n",
    "    img = cv2.imread(os.path.join(DATA_PATH, frames[\"file_path\"]))\n",
    "    #Strip the alpha\n",
    "    img = img[:,:,:3]\n",
    "    #Save image\n",
    "    cv2.imwrite(os.path.join(DATA_PATH, frames[\"file_path\"]), img)"
   ]
  }
 ],
 "metadata": {
  "kernelspec": {
   "display_name": "Python 3",
   "language": "python",
   "name": "python3"
  },
  "language_info": {
   "codemirror_mode": {
    "name": "ipython",
    "version": 3
   },
   "file_extension": ".py",
   "mimetype": "text/x-python",
   "name": "python",
   "nbconvert_exporter": "python",
   "pygments_lexer": "ipython3",
   "version": "3.8.10"
  }
 },
 "nbformat": 4,
 "nbformat_minor": 2
}
