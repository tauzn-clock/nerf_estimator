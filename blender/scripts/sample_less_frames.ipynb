{
 "cells": [
  {
   "cell_type": "code",
   "execution_count": 44,
   "metadata": {},
   "outputs": [],
   "source": [
    "import os\n",
    "import cv2\n",
    "import json\n",
    "import math\n",
    "import numpy as np\n",
    "import matplotlib.pyplot as plt\n",
    "%matplotlib inline"
   ]
  },
  {
   "cell_type": "code",
   "execution_count": 45,
   "metadata": {},
   "outputs": [],
   "source": [
    "MODEL_PATH = \"/home/boomalope/nerf_estimator/src/nerf_estimator/blender/test/jackal_training_data_2\"\n",
    "SAVED_PATH = \"/home/boomalope/nerf_estimator/src/nerf_estimator/blender/test/jackal_training_data_2_fifth\"\n",
    "#Make sure the saved path exists\n",
    "if not os.path.exists(SAVED_PATH):\n",
    "    os.makedirs(SAVED_PATH)\n",
    "if not os.path.exists(SAVED_PATH + \"/images\"):\n",
    "    os.makedirs(SAVED_PATH + \"/images\")\n",
    "if not os.path.exists(SAVED_PATH + \"/masks\"):\n",
    "    os.makedirs(SAVED_PATH + \"/masks\")\n",
    "with open(os.path.join(MODEL_PATH, \"transforms.json\")) as f:\n",
    "    transforms = json.load(f)"
   ]
  },
  {
   "cell_type": "code",
   "execution_count": 46,
   "metadata": {},
   "outputs": [
    {
     "name": "stdout",
     "output_type": "stream",
     "text": [
      "images/0.png\n",
      "images/5.png\n",
      "images/10.png\n",
      "images/15.png\n",
      "images/20.png\n",
      "images/25.png\n",
      "images/30.png\n",
      "images/35.png\n",
      "images/40.png\n",
      "images/45.png\n",
      "images/50.png\n",
      "images/55.png\n",
      "images/60.png\n",
      "images/65.png\n",
      "images/70.png\n",
      "images/75.png\n",
      "images/80.png\n",
      "images/85.png\n",
      "images/90.png\n",
      "images/95.png\n",
      "images/100.png\n",
      "images/105.png\n",
      "images/110.png\n",
      "images/115.png\n",
      "images/120.png\n",
      "images/125.png\n",
      "images/130.png\n",
      "images/135.png\n",
      "images/140.png\n",
      "images/145.png\n",
      "images/150.png\n",
      "images/155.png\n",
      "images/160.png\n",
      "images/165.png\n",
      "images/170.png\n",
      "images/175.png\n",
      "images/180.png\n",
      "images/185.png\n",
      "images/190.png\n",
      "images/195.png\n",
      "images/200.png\n",
      "images/205.png\n",
      "images/210.png\n",
      "images/215.png\n",
      "images/220.png\n",
      "images/225.png\n",
      "images/230.png\n",
      "images/235.png\n",
      "images/240.png\n",
      "images/245.png\n",
      "images/250.png\n",
      "images/255.png\n",
      "images/260.png\n",
      "images/265.png\n",
      "images/270.png\n",
      "images/275.png\n",
      "images/280.png\n",
      "images/285.png\n",
      "images/290.png\n",
      "images/295.png\n"
     ]
    }
   ],
   "source": [
    "new_frames = []\n",
    "sample = 5\n",
    "\n",
    "for f in range(len(transforms[\"frames\"])):\n",
    "    if f % sample == 0:\n",
    "        new_frames.append(transforms[\"frames\"][f])\n",
    "        \n",
    "        print(transforms[\"frames\"][f][\"file_path\"])\n",
    "        \n",
    "        img = cv2.imread(os.path.join(MODEL_PATH, transforms[\"frames\"][f][\"file_path\"]))\n",
    "        mask = cv2.imread(os.path.join(MODEL_PATH, transforms[\"frames\"][f][\"mask_path\"]))\n",
    "        \n",
    "        #Mask has only 1 channel\n",
    "        mask = mask[:,:,0]\n",
    "        \n",
    "        cv2.imwrite(os.path.join(SAVED_PATH, transforms[\"frames\"][f][\"file_path\"]), img)\n",
    "        cv2.imwrite(os.path.join(SAVED_PATH, transforms[\"frames\"][f][\"mask_path\"]), mask)\n"
   ]
  },
  {
   "cell_type": "code",
   "execution_count": 47,
   "metadata": {},
   "outputs": [],
   "source": [
    "#Save transforms\n",
    "transforms[\"frames\"] = new_frames\n",
    "with open(os.path.join(SAVED_PATH, \"transforms.json\"), \"w\") as f:\n",
    "    json.dump(transforms, f)"
   ]
  }
 ],
 "metadata": {
  "kernelspec": {
   "display_name": "Python 3",
   "language": "python",
   "name": "python3"
  },
  "language_info": {
   "codemirror_mode": {
    "name": "ipython",
    "version": 3
   },
   "file_extension": ".py",
   "mimetype": "text/x-python",
   "name": "python",
   "nbconvert_exporter": "python",
   "pygments_lexer": "ipython3",
   "version": "3.8.10"
  }
 },
 "nbformat": 4,
 "nbformat_minor": 2
}
