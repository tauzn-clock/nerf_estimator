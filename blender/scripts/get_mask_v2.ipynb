{
 "cells": [
  {
   "cell_type": "code",
   "execution_count": 5,
   "metadata": {},
   "outputs": [],
   "source": [
    "import os\n",
    "import cv2\n",
    "import json\n",
    "import math\n",
    "import numpy as np\n",
    "import matplotlib.pyplot as plt\n",
    "%matplotlib inline"
   ]
  },
  {
   "cell_type": "code",
   "execution_count": 6,
   "metadata": {},
   "outputs": [],
   "source": [
    "FILE_PATH = os.path.join(os.getcwd(), '../test/jackal_evaluation_data')\n",
    "#Check if file exists\n",
    "MASK_PATH = os.path.join(FILE_PATH,'masks')\n",
    "if not os.path.exists(MASK_PATH):\n",
    "    os.makedirs(MASK_PATH)\n",
    "TRANSFORM_FILE = \"transforms.json\"\n",
    "#Open transforms.json\n",
    "with open(os.path.join(FILE_PATH,TRANSFORM_FILE)) as f:\n",
    "    transforms = json.load(f)"
   ]
  },
  {
   "cell_type": "code",
   "execution_count": 7,
   "metadata": {},
   "outputs": [],
   "source": [
    "new_frames = []\n",
    "\n",
    "cnt = 0\n",
    "for f in transforms[\"frames\"]:\n",
    "    #Get Frame path\n",
    "    frame_path = os.path.join(FILE_PATH,f[\"file_path\"])\n",
    "    \n",
    "    #Open Frame\n",
    "    frame = cv2.imread(frame_path)\n",
    "    #Find edge\n",
    "    edge = cv2.Canny(frame,0,25)\n",
    "    edge_points = np.where(edge==255)\n",
    "    edge_points = np.array(edge_points)\n",
    "    \n",
    "    #Create mask with polygons from edge\n",
    "    mask = np.zeros((frame.shape[0],frame.shape[1]),dtype=np.uint8)\n",
    "    pts = edge_points.T.reshape(-1,1,2)\n",
    "    #Reverse order of points\n",
    "    pts = pts[:,:,::-1]\n",
    "    cv2.fillPoly(mask, pts = [pts], color=(255,255,255))\n",
    "    mask = cv2.dilate(mask,np.ones((3,3),np.uint8),iterations = 1)\n",
    "    mask = cv2.erode(mask,np.ones((3,3),np.uint8),iterations = 1)\n",
    "    \n",
    "    #Save mask\n",
    "    mask_path = os.path.join( \"masks\",\"{}.png\".format(cnt))\n",
    "    cv2.imwrite(os.path.join(FILE_PATH,mask_path),mask)\n",
    "\n",
    "    f_copy = f.copy()\n",
    "    f_copy[\"mask_path\"] = mask_path\n",
    "    new_frames.append(f_copy)\n",
    "\n",
    "    cnt += 1\n"
   ]
  },
  {
   "cell_type": "code",
   "execution_count": 8,
   "metadata": {},
   "outputs": [],
   "source": [
    "transforms[\"frames\"] = new_frames\n",
    "with open(os.path.join(FILE_PATH, TRANSFORM_FILE), 'w') as outfile:\n",
    "    json.dump(transforms, outfile, indent=4)"
   ]
  }
 ],
 "metadata": {
  "kernelspec": {
   "display_name": "Python 3",
   "language": "python",
   "name": "python3"
  },
  "language_info": {
   "codemirror_mode": {
    "name": "ipython",
    "version": 3
   },
   "file_extension": ".py",
   "mimetype": "text/x-python",
   "name": "python",
   "nbconvert_exporter": "python",
   "pygments_lexer": "ipython3",
   "version": "3.8.10"
  }
 },
 "nbformat": 4,
 "nbformat_minor": 2
}
