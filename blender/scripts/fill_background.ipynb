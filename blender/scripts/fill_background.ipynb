{
 "cells": [
  {
   "cell_type": "code",
   "execution_count": 14,
   "metadata": {},
   "outputs": [],
   "source": [
    "import os\n",
    "import cv2\n",
    "import json\n",
    "import math\n",
    "import numpy as np\n",
    "import matplotlib.pyplot as plt\n",
    "%matplotlib inline"
   ]
  },
  {
   "cell_type": "code",
   "execution_count": 15,
   "metadata": {},
   "outputs": [],
   "source": [
    "FILE_PATH = \"../test/jackal_training_data_1\"\n",
    "TARGET_PATH = \"../data/jackal_training_data_1_white\"\n",
    "TRANSFORM = os.path.join(FILE_PATH, \"transforms.json\")\n",
    "#Make folder\n",
    "if not os.path.exists(TARGET_PATH):\n",
    "    os.makedirs(TARGET_PATH)\n",
    "if not os.path.exists(TARGET_PATH + \"/images\"):\n",
    "    os.makedirs(TARGET_PATH + \"/images\")\n",
    "if not os.path.exists(TARGET_PATH + \"/masks\"):\n",
    "    os.makedirs(TARGET_PATH + \"/masks\")  "
   ]
  },
  {
   "cell_type": "code",
   "execution_count": 16,
   "metadata": {},
   "outputs": [],
   "source": [
    "#Open Transform file\n",
    "with open(TRANSFORM) as f:\n",
    "    transform = json.load(f)"
   ]
  },
  {
   "cell_type": "code",
   "execution_count": 17,
   "metadata": {},
   "outputs": [],
   "source": [
    "for frame in transform[\"frames\"]:\n",
    "    img_path = os.path.join(FILE_PATH, frame[\"file_path\"])\n",
    "    img = cv2.imread(img_path)\n",
    "    img = cv2.cvtColor(img, cv2.COLOR_BGR2RGB)\n",
    "    mask = os.path.join(FILE_PATH, frame[\"mask_path\"])\n",
    "    mask = cv2.imread(mask, cv2.IMREAD_GRAYSCALE)\n",
    "\n",
    "    # For the region where mask == 0, set the image to white\n",
    "    img[mask == 0] = 255\n",
    "    mask[mask == 0] = 255\n",
    "\n",
    "    # Save the image and mask\n",
    "    img_path = os.path.join(TARGET_PATH, frame[\"file_path\"])\n",
    "    mask_path = os.path.join(TARGET_PATH, frame[\"mask_path\"])\n",
    "\n",
    "    cv2.imwrite(img_path, cv2.cvtColor(img, cv2.COLOR_RGB2BGR))\n",
    "    cv2.imwrite(mask_path, mask)\n",
    "\n"
   ]
  },
  {
   "cell_type": "code",
   "execution_count": null,
   "metadata": {},
   "outputs": [],
   "source": [
    "#Save the transform file\n",
    "with open(os.path.join(TARGET_PATH, \"transforms.json\"), \"w\") as f:\n",
    "    json.dump(transform, f)"
   ]
  }
 ],
 "metadata": {
  "kernelspec": {
   "display_name": "Python 3",
   "language": "python",
   "name": "python3"
  },
  "language_info": {
   "codemirror_mode": {
    "name": "ipython",
    "version": 3
   },
   "file_extension": ".py",
   "mimetype": "text/x-python",
   "name": "python",
   "nbconvert_exporter": "python",
   "pygments_lexer": "ipython3",
   "version": "3.8.10"
  }
 },
 "nbformat": 4,
 "nbformat_minor": 2
}
