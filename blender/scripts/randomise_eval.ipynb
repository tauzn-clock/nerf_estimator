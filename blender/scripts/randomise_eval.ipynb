{
 "cells": [
  {
   "cell_type": "code",
   "execution_count": 1,
   "metadata": {},
   "outputs": [],
   "source": [
    "import os\n",
    "import json\n",
    "import math\n",
    "import numpy as np\n",
    "import copy\n",
    "import random\n",
    "from scipy.spatial.transform import Rotation"
   ]
  },
  {
   "cell_type": "code",
   "execution_count": 2,
   "metadata": {},
   "outputs": [],
   "source": [
    "DATA_PATH = os.path.join(os.getcwd(), '../test/jackal_evaluation_data')\n",
    "SAVE_PATH = os.path.join(os.getcwd(), '../test/jackal_evaluation_data/transforms_1.json')\n",
    "#Open the json file\n",
    "with open(DATA_PATH + '/ground_truth.json') as f:\n",
    "    data = json.load(f)\n",
    "    f.close()"
   ]
  },
  {
   "cell_type": "code",
   "execution_count": 3,
   "metadata": {},
   "outputs": [],
   "source": [
    "sd_translation = 0.01\n",
    "sd_rotation = 1\n",
    "\n",
    "for d in range(len(data[\"frames\"])):\n",
    "    transform_matrix = data[\"frames\"][d][\"transform_matrix\"]\n",
    "    \n",
    "    noise_matrix = np.eye(4)\n",
    "    noise_matrix[0, 3] = np.random.normal(0, sd_translation)\n",
    "    noise_matrix[1, 3] = np.random.normal(0, sd_translation)\n",
    "    noise_matrix[:3, :3] = Rotation.from_rotvec(np.array([0, 0, 1]) * np.random.normal(0, sd_rotation), degrees=True).as_matrix()\n",
    "    transform_matrix = np.matmul(noise_matrix, transform_matrix)\n",
    "\n",
    "    data[\"frames\"][d][\"transform_matrix\"] = transform_matrix.tolist()"
   ]
  },
  {
   "cell_type": "code",
   "execution_count": 4,
   "metadata": {},
   "outputs": [],
   "source": [
    "#Save the json file\n",
    "with open(SAVE_PATH, 'w') as f:\n",
    "    json.dump(data, f, indent=4)\n",
    "    f.close()"
   ]
  }
 ],
 "metadata": {
  "kernelspec": {
   "display_name": "Python 3",
   "language": "python",
   "name": "python3"
  },
  "language_info": {
   "codemirror_mode": {
    "name": "ipython",
    "version": 3
   },
   "file_extension": ".py",
   "mimetype": "text/x-python",
   "name": "python",
   "nbconvert_exporter": "python",
   "pygments_lexer": "ipython3",
   "version": "3.8.10"
  }
 },
 "nbformat": 4,
 "nbformat_minor": 2
}
