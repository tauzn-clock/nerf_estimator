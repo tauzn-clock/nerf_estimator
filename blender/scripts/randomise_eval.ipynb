{
 "cells": [
  {
   "cell_type": "code",
   "execution_count": 17,
   "metadata": {},
   "outputs": [],
   "source": [
    "import os\n",
    "import json\n",
    "import math\n",
    "import numpy as np\n",
    "import copy\n",
    "import random\n",
    "from scipy.spatial.transform import Rotation"
   ]
  },
  {
   "cell_type": "code",
   "execution_count": 18,
   "metadata": {},
   "outputs": [],
   "source": [
    "DATA_PATH = os.path.join(os.getcwd(), '../test/jackal_evaluation_data')\n",
    "SAVE_PATH = os.path.join(os.getcwd(), '../test/jackal_evaluation_data/transforms_20.json')\n",
    "#Open the json file\n",
    "with open(DATA_PATH + '/transforms.json') as f:\n",
    "    data = json.load(f)\n",
    "    f.close()"
   ]
  },
  {
   "cell_type": "code",
   "execution_count": 19,
   "metadata": {},
   "outputs": [],
   "source": [
    "translation_error = 0.20\n",
    "rotation_error = 20\n",
    "\n",
    "for d in range(len(data[\"frames\"])):\n",
    "    transform_matrix = data[\"frames\"][d][\"transform_matrix\"]\n",
    "    \n",
    "    noise_matrix = np.eye(4)\n",
    "    noise_matrix[0, 3] = np.random.uniform(-translation_error, translation_error)\n",
    "    noise_matrix[1, 3] = (translation_error**2 - noise_matrix[0, 3]**2)**0.5 * np.random.choice([-1, 1])\n",
    "    noise_matrix[:3, :3] = Rotation.from_rotvec(np.array([0, 0, rotation_error]) * np.random.choice([-1,1]), degrees=True).as_matrix()\n",
    "    transform_matrix = np.matmul(noise_matrix, transform_matrix)\n",
    "\n",
    "    data[\"frames\"][d][\"transform_matrix\"] = transform_matrix.tolist()"
   ]
  },
  {
   "cell_type": "code",
   "execution_count": 20,
   "metadata": {},
   "outputs": [],
   "source": [
    "#Save the json file\n",
    "with open(SAVE_PATH, 'w') as f:\n",
    "    json.dump(data, f, indent=4)\n",
    "    f.close()"
   ]
  }
 ],
 "metadata": {
  "kernelspec": {
   "display_name": "Python 3",
   "language": "python",
   "name": "python3"
  },
  "language_info": {
   "codemirror_mode": {
    "name": "ipython",
    "version": 3
   },
   "file_extension": ".py",
   "mimetype": "text/x-python",
   "name": "python",
   "nbconvert_exporter": "python",
   "pygments_lexer": "ipython3",
   "version": "3.8.10"
  }
 },
 "nbformat": 4,
 "nbformat_minor": 2
}
