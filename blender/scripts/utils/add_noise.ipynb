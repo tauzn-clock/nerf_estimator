{
 "cells": [
  {
   "cell_type": "code",
   "execution_count": 103,
   "metadata": {},
   "outputs": [],
   "source": [
    "import os\n",
    "import cv2\n",
    "import json\n",
    "import math\n",
    "import numpy as np\n",
    "import matplotlib.pyplot as plt\n",
    "from scipy.spatial.transform import Rotation\n",
    "%matplotlib inline"
   ]
  },
  {
   "cell_type": "code",
   "execution_count": 104,
   "metadata": {},
   "outputs": [],
   "source": [
    "DATA_PATH = \"../../test/jackal_evaluation_data\"\n",
    "with open(os.path.join(DATA_PATH, \"transforms.json\"), \"r\") as f:\n",
    "    transform = json.load(f)"
   ]
  },
  {
   "cell_type": "code",
   "execution_count": 105,
   "metadata": {},
   "outputs": [],
   "source": [
    "error = 20\n",
    "\n",
    "for f in transform[\"frames\"]:\n",
    "    tf = f[\"transform_matrix\"]\n",
    "    tf = np.array(tf)\n",
    "    \n",
    "    error_matrix = np.eye(4)\n",
    "    angle = error * np.random.choice([-1, 1])\n",
    "\n",
    "    error_matrix[:3,:3] = Rotation.from_euler(\"z\", angle, degrees=True).as_matrix()\n",
    "\n",
    "    x_error = np.random.uniform(-error, error) \n",
    "    y_error = (error**2 - x_error**2)**0.5 * np.random.choice([-1, 1]) \n",
    "\n",
    "    error_matrix[0,3] = x_error * 0.01\n",
    "    error_matrix[1,3] = y_error * 0.01\n",
    "\n",
    "    tf = error_matrix @ tf\n",
    "\n",
    "    f[\"transform_matrix\"] = tf.tolist()\n"
   ]
  },
  {
   "cell_type": "code",
   "execution_count": 106,
   "metadata": {},
   "outputs": [],
   "source": [
    "with open(os.path.join(DATA_PATH, \"transforms_20.json\"), \"w\") as f:\n",
    "    json.dump(transform, f, indent=4)"
   ]
  }
 ],
 "metadata": {
  "kernelspec": {
   "display_name": "Python 3",
   "language": "python",
   "name": "python3"
  },
  "language_info": {
   "codemirror_mode": {
    "name": "ipython",
    "version": 3
   },
   "file_extension": ".py",
   "mimetype": "text/x-python",
   "name": "python",
   "nbconvert_exporter": "python",
   "pygments_lexer": "ipython3",
   "version": "3.8.10"
  }
 },
 "nbformat": 4,
 "nbformat_minor": 2
}
