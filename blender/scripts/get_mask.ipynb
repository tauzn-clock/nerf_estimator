{
 "cells": [
  {
   "cell_type": "code",
   "execution_count": 15,
   "metadata": {},
   "outputs": [],
   "source": [
    "import os\n",
    "import cv2\n",
    "import json\n",
    "import math\n",
    "import numpy as np\n",
    "import matplotlib.pyplot as plt\n",
    "%matplotlib inline"
   ]
  },
  {
   "cell_type": "code",
   "execution_count": 16,
   "metadata": {},
   "outputs": [],
   "source": [
    "FILE_PATH = os.path.join(os.getcwd(), '../data/5_spins_with_mask/')\n",
    "#Check if file exists\n",
    "MASK_PATH = os.path.join(FILE_PATH,'masks')\n",
    "if not os.path.exists(MASK_PATH):\n",
    "    os.makedirs(MASK_PATH)"
   ]
  },
  {
   "cell_type": "code",
   "execution_count": 17,
   "metadata": {},
   "outputs": [
    {
     "name": "stdout",
     "output_type": "stream",
     "text": [
      "(720, 1280, 3)\n"
     ]
    }
   ],
   "source": [
    "#Open transforms.json\n",
    "with open(os.path.join(FILE_PATH,'transforms.json')) as f:\n",
    "    transforms = json.load(f)\n",
    "\n",
    "new_frames = []\n",
    "\n",
    "cnt = 0\n",
    "for f in transforms[\"frames\"]:\n",
    "    #Get Frame path\n",
    "    frame_path = os.path.join(FILE_PATH,f[\"file_path\"])\n",
    "    #Open Frame\n",
    "    frame = cv2.imread(frame_path)\n",
    "    #Find edge\n",
    "    edge = cv2.Canny(frame,100,200)\n",
    "    edge_points = np.where(edge==255)\n",
    "    #Get convex hull that contains edge\n",
    "    hull = cv2.convexHull(np.array([edge_points[1],edge_points[0]]).T)\n",
    "    #Create mask with hull\n",
    "    mask = np.zeros((frame.shape[0],frame.shape[1]),dtype=np.uint8)\n",
    "    cv2.fillConvexPoly(mask,hull,255)\n",
    "\n",
    "    #Set alpha in frame to zero if mask is zero\n",
    "    frame = np.concatenate((frame, np.expand_dims(mask, axis=2)), axis=2)\n",
    "\n",
    "    #Save frame\n",
    "    cv2.imwrite(frame_path,frame)\n",
    "\n",
    "    #Save mask\n",
    "    mask_path = os.path.join( \"masks\",\"{}.png\".format(cnt))\n",
    "    cv2.imwrite(os.path.join(FILE_PATH,mask_path),mask)\n",
    "\n",
    "    f_copy = f.copy()\n",
    "    f_copy[\"mask_path\"] = mask_path\n",
    "    new_frames.append(f_copy)\n",
    "\n",
    "    cnt += 1\n",
    "transforms[\"frames\"] = new_frames\n",
    "\n",
    "with open(os.path.join(FILE_PATH,'transforms.json'), 'w') as outfile:\n",
    "    json.dump(transforms, outfile, indent=4)"
   ]
  }
 ],
 "metadata": {
  "kernelspec": {
   "display_name": "Python 3",
   "language": "python",
   "name": "python3"
  },
  "language_info": {
   "codemirror_mode": {
    "name": "ipython",
    "version": 3
   },
   "file_extension": ".py",
   "mimetype": "text/x-python",
   "name": "python",
   "nbconvert_exporter": "python",
   "pygments_lexer": "ipython3",
   "version": "3.8.10"
  }
 },
 "nbformat": 4,
 "nbformat_minor": 2
}
