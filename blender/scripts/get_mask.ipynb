{
 "cells": [
  {
   "cell_type": "code",
   "execution_count": 16,
   "metadata": {},
   "outputs": [],
   "source": [
    "import os\n",
    "import cv2\n",
    "import json\n",
    "import math\n",
    "import numpy as np\n",
    "import matplotlib.pyplot as plt\n",
    "%matplotlib inline"
   ]
  },
  {
   "cell_type": "code",
   "execution_count": 17,
   "metadata": {},
   "outputs": [],
   "source": [
    "FILE_PATH = os.path.join(os.getcwd(), '../data/5_spins/')\n",
    "#Check if file exists\n",
    "MASK_PATH = os.path.join(FILE_PATH,'masks')\n",
    "if not os.path.exists(MASK_PATH):\n",
    "    os.makedirs(MASK_PATH)"
   ]
  },
  {
   "cell_type": "code",
   "execution_count": 18,
   "metadata": {},
   "outputs": [
    {
     "name": "stdout",
     "output_type": "stream",
     "text": [
      "/home/boomalope/nerf_estimator/src/nerf_estimator/blender/scripts/../data/5_spins/masks/0.png\n"
     ]
    },
    {
     "data": {
      "image/png": "[encoded data removed]",
      "text/plain": [
       "<Figure size 640x480 with 1 Axes>"
      ]
     },
     "metadata": {},
     "output_type": "display_data"
    }
   ],
   "source": [
    "#Open transforms.json\n",
    "with open(os.path.join(FILE_PATH,'transforms.json')) as f:\n",
    "    transforms = json.load(f)\n",
    "\n",
    "new_frames = []\n",
    "\n",
    "cnt = 0\n",
    "for f in transforms[\"frames\"]:\n",
    "    #Get Frame path\n",
    "    frame_path = os.path.join(FILE_PATH,f[\"file_path\"])\n",
    "    #Open Frame\n",
    "    frame = cv2.imread(frame_path)\n",
    "    #Find edge\n",
    "    edge = cv2.Canny(frame,100,200)\n",
    "    edge_points = np.where(edge==255)\n",
    "    #Get convex hull that contains edge\n",
    "    hull = cv2.convexHull(np.array([edge_points[1],edge_points[0]]).T)\n",
    "    #Create mask with hull\n",
    "    mask = np.zeros((frame.shape[0],frame.shape[1]),dtype=np.uint8)\n",
    "    cv2.fillConvexPoly(mask,hull,255)\n",
    "    plt.imshow(mask)\n",
    "\n",
    "    #Save mask\n",
    "    mask_path = os.path.join( \"masks\",\"{}.png\".format(cnt))\n",
    "    mask_path = os.path.join(FILE_PATH,mask_path)\n",
    "    print(mask_path)\n",
    "    cv2.imwrite(mask_path,mask)\n",
    "\n",
    "    f_copy = f.copy()\n",
    "    f_copy[\"mask_path\"] = mask_path\n",
    "    new_frames.append(f_copy)\n",
    "\n",
    "    cnt += 1\n",
    "transforms[\"frames\"] = new_frames\n",
    "\n",
    "with open(os.path.join(FILE_PATH,'transforms.json'), 'w') as outfile:\n",
    "    json.dump(transforms, outfile, indent=4)"
   ]
  }
 ],
 "metadata": {
  "kernelspec": {
   "display_name": "Python 3",
   "language": "python",
   "name": "python3"
  },
  "language_info": {
   "codemirror_mode": {
    "name": "ipython",
    "version": 3
   },
   "file_extension": ".py",
   "mimetype": "text/x-python",
   "name": "python",
   "nbconvert_exporter": "python",
   "pygments_lexer": "ipython3",
   "version": "3.8.10"
  }
 },
 "nbformat": 4,
 "nbformat_minor": 2
}
