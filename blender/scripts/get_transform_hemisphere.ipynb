{
 "cells": [
  {
   "cell_type": "code",
   "execution_count": 1,
   "metadata": {},
   "outputs": [],
   "source": [
    "import os\n",
    "import json\n",
    "import math\n",
    "import numpy as np\n",
    "from scipy.spatial.transform import Rotation"
   ]
  },
  {
   "cell_type": "code",
   "execution_count": 2,
   "metadata": {},
   "outputs": [],
   "source": [
    "SAVE_PATH = os.path.join(os.getcwd(), '../data/jackal_hemisphere')\n",
    "if not os.path.exists(SAVE_PATH):\n",
    "    os.makedirs(SAVE_PATH)\n",
    "if not os.path.exists(os.path.join(SAVE_PATH, 'images')):\n",
    "    os.makedirs(os.path.join(SAVE_PATH, 'images'))"
   ]
  },
  {
   "cell_type": "code",
   "execution_count": 3,
   "metadata": {},
   "outputs": [],
   "source": [
    "transforms = {}\n",
    "transforms[\"focal_length\"] = 50.0 #Focal Length in mm\n",
    "transforms[\"fov_x\"] = 1.05 #FOV in radians\n",
    "transforms[\"w\"] = 1280 # image width\n",
    "transforms[\"h\"] = 720 # image height\n",
    "\n",
    "\n",
    "transforms[\"pixel_width\"] = 2*math.tan(transforms[\"fov_x\"]) * transforms[\"focal_length\"] / transforms[\"w\"] #Sensor width in mm\n",
    "transforms[\"pixel_height\"] = transforms[\"pixel_width\"] #Sensor height in mm\n",
    "transforms[\"fl_x\"] = transforms[\"focal_length\"]/transforms[\"pixel_width\"] # focal length/ pixel_width\n",
    "transforms[\"fl_y\"] = transforms[\"focal_length\"]/transforms[\"pixel_height\"]# focal length/ pixel_height\n",
    "transforms[\"cx\"] = transforms[\"w\"]//2 # optical center in x\n",
    "transforms[\"cy\"] = transforms[\"h\"]//2 # optical center in y\n",
    "transforms[\"camera_model\"] = \"OPENCV\" # camera model"
   ]
  },
  {
   "cell_type": "code",
   "execution_count": 4,
   "metadata": {},
   "outputs": [],
   "source": [
    "frames = []\n",
    "\n",
    "# Radius of hemisphere\n",
    "r = 1\n",
    "\n",
    "cnt = 0\n",
    "\n",
    "for i in range(0, 90, 15):\n",
    "    for j in range(-180, 180, 15):\n",
    "        transform_matrix = np.eye(4)\n",
    "\n",
    "        # Translation\n",
    "        transform_matrix[:3, 3] = [0, 0, r]\n",
    "\n",
    "        # Rotation\n",
    "        rot = Rotation.from_euler('xyz', [i, 0, j], degrees=True)\n",
    "        rot_matrix = np.eye(4)\n",
    "        rot_matrix[:3, :3] = rot.as_matrix()\n",
    "        transform_matrix = np.matmul(rot_matrix, transform_matrix)\n",
    "\n",
    "        frame = {}\n",
    "        file_path = \"images/{}.png\".format(cnt)\n",
    "\n",
    "        frame[\"file_path\"] = file_path\n",
    "        frame[\"transform_matrix\"] = transform_matrix.tolist()\n",
    "\n",
    "        frames.append(frame)\n",
    "        cnt+=1\n",
    "\n",
    "transforms[\"frames\"] = frames"
   ]
  },
  {
   "cell_type": "code",
   "execution_count": 5,
   "metadata": {},
   "outputs": [],
   "source": [
    "#Save transforms\n",
    "with open(os.path.join(SAVE_PATH,'transforms.json'), 'w') as outfile:\n",
    "    json.dump(transforms, outfile, indent=4)"
   ]
  }
 ],
 "metadata": {
  "kernelspec": {
   "display_name": "Python 3",
   "language": "python",
   "name": "python3"
  },
  "language_info": {
   "codemirror_mode": {
    "name": "ipython",
    "version": 3
   },
   "file_extension": ".py",
   "mimetype": "text/x-python",
   "name": "python",
   "nbconvert_exporter": "python",
   "pygments_lexer": "ipython3",
   "version": "3.8.10"
  }
 },
 "nbformat": 4,
 "nbformat_minor": 2
}
