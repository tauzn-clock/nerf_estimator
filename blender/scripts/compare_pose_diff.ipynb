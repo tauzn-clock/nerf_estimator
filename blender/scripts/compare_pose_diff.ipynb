{
 "cells": [
  {
   "cell_type": "code",
   "execution_count": 1,
   "metadata": {},
   "outputs": [],
   "source": [
    "import os\n",
    "import cv2\n",
    "import json\n",
    "import math\n",
    "import numpy as np\n",
    "import matplotlib.pyplot as plt\n",
    "from scipy.spatial.transform import Rotation\n",
    "%matplotlib inline"
   ]
  },
  {
   "cell_type": "code",
   "execution_count": 2,
   "metadata": {},
   "outputs": [],
   "source": [
    "GROUND_TRUTH_PATH = \"/home/boomalope2/nerf_estimator/src/blender/test/jackal_evaluation_data/ground_truth.json\"\n",
    "TRANSFORM_PATH = \"/home/boomalope2/nerf_estimator/src/blender/test/jackal_evaluation_data/transforms_10.json\"\n",
    "\n",
    "with open(GROUND_TRUTH_PATH, \"r\") as f:\n",
    "    ground_truth = json.load(f)\n",
    "with open(TRANSFORM_PATH, \"r\") as f:\n",
    "    transform = json.load(f)"
   ]
  },
  {
   "cell_type": "code",
   "execution_count": 3,
   "metadata": {},
   "outputs": [],
   "source": [
    "trans = []\n",
    "rot = []\n",
    "abs_trans = []\n",
    "abs_rot = []\n",
    "\n",
    "for i in range(len(ground_truth[\"frames\"])):\n",
    "    ground_truth_frame = np.asarray(ground_truth[\"frames\"][i][\"transform_matrix\"])\n",
    "    transform_frame = np.asarray(transform[\"frames\"][i][\"transform_matrix\"])\n",
    "    \n",
    "    R_ground_truth = ground_truth_frame[:3, :3]\n",
    "    R_transform = transform_frame[:3, :3]\n",
    "\n",
    "    R_relative = np.matmul(R_transform, np.linalg.inv(R_ground_truth))\n",
    "    r = Rotation.from_matrix(R_relative).as_euler(\"xyz\", degrees=True)\n",
    "\n",
    "    t_ground_truth = ground_truth_frame[:3, 3]\n",
    "    t_transform = transform_frame[:3, 3]\n",
    "    t_relative = t_transform - R_relative @ t_ground_truth\n",
    "    \n",
    "    rot.append(r)\n",
    "    trans.append(t_relative)\n",
    "\n",
    "    abs_trans.append(np.linalg.norm(t_relative, ord=2))\n",
    "\n",
    "    trace = R_relative.trace()\n",
    "    abs_rot.append(np.arccos((trace - 1) / 2) * 180 / math.pi)"
   ]
  },
  {
   "cell_type": "code",
   "execution_count": 4,
   "metadata": {},
   "outputs": [
    {
     "name": "stdout",
     "output_type": "stream",
     "text": [
      "[8.04449282e-02 8.03401143e-02 2.73855013e-16]\n",
      "[2.06855544e-15 1.82351802e-15 8.26595785e+00]\n",
      "0.12646919523227843\n",
      "8.265957851893306\n",
      "0.14426818034661598\n"
     ]
    }
   ],
   "source": [
    "print(np.abs(trans).mean(axis=0))\n",
    "print(np.abs(rot).mean(axis=0))\n",
    "\n",
    "print(np.abs(abs_trans).mean())\n",
    "print(np.abs(abs_rot).mean())\n",
    "print(np.array(abs_rot).mean()*math.pi/180)"
   ]
  }
 ],
 "metadata": {
  "kernelspec": {
   "display_name": "Python 3",
   "language": "python",
   "name": "python3"
  },
  "language_info": {
   "codemirror_mode": {
    "name": "ipython",
    "version": 3
   },
   "file_extension": ".py",
   "mimetype": "text/x-python",
   "name": "python",
   "nbconvert_exporter": "python",
   "pygments_lexer": "ipython3",
   "version": "3.8.10"
  }
 },
 "nbformat": 4,
 "nbformat_minor": 2
}
