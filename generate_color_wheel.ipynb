{
 "cells": [
  {
   "cell_type": "code",
   "execution_count": 2,
   "metadata": {},
   "outputs": [],
   "source": [
    "%load_ext autoreload\n",
    "%autoreload 2\n",
    "%matplotlib inline"
   ]
  },
  {
   "cell_type": "code",
   "execution_count": 3,
   "metadata": {},
   "outputs": [],
   "source": [
    "import os\n",
    "import json\n",
    "import torch\n",
    "import numpy as np\n",
    "import cv2\n",
    "import math\n",
    "from pathlib import Path"
   ]
  },
  {
   "cell_type": "code",
   "execution_count": 22,
   "metadata": {},
   "outputs": [
    {
     "data": {
      "text/plain": [
       "True"
      ]
     },
     "execution_count": 22,
     "metadata": {},
     "output_type": "execute_result"
    }
   ],
   "source": [
    "#Create color wheel png\n",
    "N = 500\n",
    "color_wheel = np.zeros((N, N, 4), dtype=np.uint8)\n",
    "\n",
    "for i in range(N):\n",
    "    for j in range(N):\n",
    "        radius = math.sqrt((i-N/2)**2 + (j-N/2)**2)\n",
    "        angle = math.atan2(j-N/2, i-N/2)\n",
    "        if (radius <= N/2):\n",
    "            r = int(255 * (math.cos(angle) + 1)/2)\n",
    "            g = int(255 * (math.cos(angle + math.pi * 2 /3) + 1)/2)\n",
    "            b = int(255 * (math.cos(angle + math.pi * 4 /3) + 1)/2)\n",
    "            color_wheel[i,j] = (r,g,b,255)\n",
    "        else:\n",
    "            color_wheel[i,j] = (255,255,255,0)\n",
    "\n",
    "cv2.imwrite('color_wheel.png', color_wheel)"
   ]
  }
 ],
 "metadata": {
  "kernelspec": {
   "display_name": "Python 3",
   "language": "python",
   "name": "python3"
  },
  "language_info": {
   "codemirror_mode": {
    "name": "ipython",
    "version": 3
   },
   "file_extension": ".py",
   "mimetype": "text/x-python",
   "name": "python",
   "nbconvert_exporter": "python",
   "pygments_lexer": "ipython3",
   "version": "3.8.10"
  }
 },
 "nbformat": 4,
 "nbformat_minor": 2
}
